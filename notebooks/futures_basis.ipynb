{
 "cells": [
  {
   "cell_type": "code",
   "execution_count": 1,
   "metadata": {},
   "outputs": [],
   "source": [
    "\n",
    "import requests\n",
    "from bs4 import BeautifulSoup\n",
    "import pandas as pd\n",
    "import time\n",
    "import json"
   ]
  },
  {
   "cell_type": "code",
   "execution_count": 2,
   "metadata": {},
   "outputs": [],
   "source": [
    "def scrape(list_of_cols,save_as):\n",
    "    url = 'https://coinalyze.net/bitcoin/basis/'\n",
    "    timestamp = time.time()\n",
    "\n",
    "    # Request content from web page\n",
    "    page = requests.get(url)\n",
    "\n",
    "    # Parse the html content\n",
    "    soup = BeautifulSoup(page.content, 'html.parser')\n",
    "    table = soup.find('table', {'class': ''})\n",
    "\n",
    "    table_headings = [th.get_text().strip() for th in table.find(\"tr\").find_all(\"th\")]\n",
    "\n",
    "    # Extract the table data\n",
    "    table_data = [[td.get_text().strip() for td in tr.find_all(\"td\")]\n",
    "                for tr in table.find_all(\"tr\")[1:]]\n",
    "\n",
    "    # Create the dataframe\n",
    "    df = pd.DataFrame(table_data, columns=table_headings)\n",
    "\n",
    "    if save_as == 'json':\n",
    "\n",
    "        out_list = df[list_of_cols].to_dict('records')\n",
    "\n",
    "        return {\n",
    "            'timestamp':timestamp,\n",
    "            'data':out_list\n",
    "        }\n",
    "    else:\n",
    "        #Save as csv\n",
    "        df['timestamp'] = timestamp\n",
    "\n",
    "        return df"
   ]
  },
  {
   "cell_type": "code",
   "execution_count": 3,
   "metadata": {},
   "outputs": [],
   "source": [
    "#Constants\n",
    "list_of_cols = [\"Exchange\",\"Contract\",\"Price\",\"OI\",\"Basis\"]\n",
    "every_n_mins = 0.1\n",
    "out_file = \"out\"\n",
    "save_as = 'json' #or csv"
   ]
  },
  {
   "cell_type": "code",
   "execution_count": 4,
   "metadata": {},
   "outputs": [
    {
     "name": "stdout",
     "output_type": "stream",
     "text": [
      "Timestamp: 1673890893.4033709\n",
      "Timestamp: 1673890901.0257654\n"
     ]
    },
    {
     "ename": "KeyboardInterrupt",
     "evalue": "",
     "output_type": "error",
     "traceback": [
      "\u001b[1;31m---------------------------------------------------------------------------\u001b[0m",
      "\u001b[1;31mKeyboardInterrupt\u001b[0m                         Traceback (most recent call last)",
      "\u001b[1;32mc:\\Users\\jorda\\OneDrive - University of the Philippines\\Work\\Dirvana\\futures_basis.ipynb Cell 4\u001b[0m in \u001b[0;36m<cell line: 4>\u001b[1;34m()\u001b[0m\n\u001b[0;32m     <a href='vscode-notebook-cell:/c%3A/Users/jorda/OneDrive%20-%20University%20of%20the%20Philippines/Work/Dirvana/futures_basis.ipynb#X24sZmlsZQ%3D%3D?line=17'>18</a>\u001b[0m     \u001b[39m#Save\u001b[39;00m\n\u001b[0;32m     <a href='vscode-notebook-cell:/c%3A/Users/jorda/OneDrive%20-%20University%20of%20the%20Philippines/Work/Dirvana/futures_basis.ipynb#X24sZmlsZQ%3D%3D?line=18'>19</a>\u001b[0m     out_df\u001b[39m.\u001b[39mto_csv(\u001b[39mf\u001b[39m\u001b[39m'\u001b[39m\u001b[39m{\u001b[39;00mout_file\u001b[39m}\u001b[39;00m\u001b[39m.csv\u001b[39m\u001b[39m'\u001b[39m,index\u001b[39m=\u001b[39m\u001b[39mFalse\u001b[39;00m)\n\u001b[1;32m---> <a href='vscode-notebook-cell:/c%3A/Users/jorda/OneDrive%20-%20University%20of%20the%20Philippines/Work/Dirvana/futures_basis.ipynb#X24sZmlsZQ%3D%3D?line=20'>21</a>\u001b[0m time\u001b[39m.\u001b[39;49msleep(every_n_mins\u001b[39m*\u001b[39;49m\u001b[39m60\u001b[39;49m)\n",
      "\u001b[1;31mKeyboardInterrupt\u001b[0m: "
     ]
    }
   ],
   "source": [
    "out_list = []\n",
    "out_df = pd.DataFrame()\n",
    "while True:\n",
    "    out_data = scrape(list_of_cols=list_of_cols,save_as=save_as)\n",
    "\n",
    "    if save_as == 'json':\n",
    "\n",
    "        print(f\"Timestamp: {out_data['timestamp']}\")\n",
    "        out_list.append(out_data)\n",
    "\n",
    "        with open(f\"{out_file}.json\", 'w') as f:\n",
    "            json.dump(out_list, f)\n",
    "    else:\n",
    "        #If csv\n",
    "        print(f\"Timestamp: {out_data['timestamp'][0]}\")\n",
    "        out_df = pd.concat([out_df,out_data])\n",
    "\n",
    "        #Save\n",
    "        out_df.to_csv(f'{out_file}.csv',index=False)\n",
    "\n",
    "    time.sleep(every_n_mins*60)"
   ]
  },
  {
   "cell_type": "code",
   "execution_count": null,
   "metadata": {},
   "outputs": [],
   "source": [
    "a = []\n",
    "a.append(out_data)"
   ]
  },
  {
   "cell_type": "code",
   "execution_count": null,
   "metadata": {},
   "outputs": [],
   "source": [
    "json_list = json.dumps(a)\n",
    "\n"
   ]
  },
  {
   "cell_type": "code",
   "execution_count": null,
   "metadata": {},
   "outputs": [],
   "source": []
  }
 ],
 "metadata": {
  "kernelspec": {
   "display_name": "base",
   "language": "python",
   "name": "python3"
  },
  "language_info": {
   "codemirror_mode": {
    "name": "ipython",
    "version": 3
   },
   "file_extension": ".py",
   "mimetype": "text/x-python",
   "name": "python",
   "nbconvert_exporter": "python",
   "pygments_lexer": "ipython3",
   "version": "3.9.12"
  },
  "orig_nbformat": 4,
  "vscode": {
   "interpreter": {
    "hash": "8004ca1cb22c42f6fcdbb2adb9a3c19cfb5be46dbe4ca233f2a8cc9a9f453d28"
   }
  }
 },
 "nbformat": 4,
 "nbformat_minor": 2
}
